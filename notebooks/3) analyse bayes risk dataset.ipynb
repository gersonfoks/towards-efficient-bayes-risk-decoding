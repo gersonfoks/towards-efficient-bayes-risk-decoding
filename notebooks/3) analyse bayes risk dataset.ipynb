{
 "cells": [
  {
   "cell_type": "code",
   "execution_count": 1,
   "id": "74cb56fc",
   "metadata": {},
   "outputs": [],
   "source": [
    "import pandas as pd\n",
    "import os\n",
    "import sys\n",
    "module_path = os.path.abspath(os.path.join('..'))\n",
    "if module_path not in sys.path:\n",
    "    sys.path.append(module_path)"
   ]
  },
  {
   "cell_type": "code",
   "execution_count": 2,
   "id": "c1500bf0",
   "metadata": {},
   "outputs": [],
   "source": [
    "df = pd.read_parquet('../data/comet/ancestral_100_1000_validation_predictive_0.parquet')"
   ]
  },
  {
   "cell_type": "code",
   "execution_count": 4,
   "id": "6e935c8b",
   "metadata": {},
   "outputs": [],
   "source": [
    "import numpy as np\n",
    "df = df.explode(column=['hypotheses', 'utilities'])\n",
    "df.reset_index(drop=True, inplace=True)\n",
    "df.rename({\"hypotheses\": \"hypothesis\"}, inplace=True, axis=1)\n",
    "\n",
    "df[\"utility\"] = df[[\"utilities\", 'references_count']].apply(lambda x: np.sum(\n",
    "np.array(x[\"utilities\"]) * np.array(x[\"references_count\"]) / np.sum(np.array(x[\"references_count\"]))), axis=1)\n"
   ]
  },
  {
   "cell_type": "code",
   "execution_count": 6,
   "id": "4a3e9adb",
   "metadata": {},
   "outputs": [
    {
     "data": {
      "text/plain": [
       "count    97157.000000\n",
       "mean        -0.362185\n",
       "std          0.733329\n",
       "min         -1.778498\n",
       "25%         -1.023475\n",
       "50%         -0.503805\n",
       "75%          0.252836\n",
       "max          1.307417\n",
       "Name: utility, dtype: float64"
      ]
     },
     "execution_count": 6,
     "metadata": {},
     "output_type": "execute_result"
    }
   ],
   "source": [
    "df[\"utility\"].describe()"
   ]
  },
  {
   "cell_type": "code",
   "execution_count": 11,
   "id": "3be35161",
   "metadata": {},
   "outputs": [],
   "source": [
    "df[\"min_utility\"] = df[\"utilities\"].apply(np.min)\n",
    "df[\"max_utility\"] = df[\"utilities\"].apply(np.max)"
   ]
  },
  {
   "cell_type": "code",
   "execution_count": 14,
   "id": "33c04b7b",
   "metadata": {},
   "outputs": [
    {
     "data": {
      "text/plain": [
       "count    97157.000000\n",
       "mean        -1.359586\n",
       "std          0.393327\n",
       "min         -2.399853\n",
       "25%         -1.594689\n",
       "50%         -1.425461\n",
       "75%         -1.228223\n",
       "max          1.118945\n",
       "Name: min_utility, dtype: float64"
      ]
     },
     "execution_count": 14,
     "metadata": {},
     "output_type": "execute_result"
    }
   ],
   "source": [
    "df[\"min_utility\"].describe()"
   ]
  },
  {
   "cell_type": "code",
   "execution_count": 13,
   "id": "4d824fbc",
   "metadata": {},
   "outputs": [
    {
     "data": {
      "text/plain": [
       "count    97157.000000\n",
       "mean         0.368552\n",
       "std          0.678554\n",
       "min         -1.475574\n",
       "25%         -0.180538\n",
       "50%          0.538552\n",
       "75%          0.995857\n",
       "max          1.329001\n",
       "Name: max_utility, dtype: float64"
      ]
     },
     "execution_count": 13,
     "metadata": {},
     "output_type": "execute_result"
    }
   ],
   "source": [
    "df[\"max_utility\"].describe()"
   ]
  },
  {
   "cell_type": "code",
   "execution_count": null,
   "id": "c2c42072",
   "metadata": {},
   "outputs": [],
   "source": []
  }
 ],
 "metadata": {
  "kernelspec": {
   "display_name": "Python 3 (ipykernel)",
   "language": "python",
   "name": "python3"
  },
  "language_info": {
   "codemirror_mode": {
    "name": "ipython",
    "version": 3
   },
   "file_extension": ".py",
   "mimetype": "text/x-python",
   "name": "python",
   "nbconvert_exporter": "python",
   "pygments_lexer": "ipython3",
   "version": "3.8.13"
  }
 },
 "nbformat": 4,
 "nbformat_minor": 5
}
