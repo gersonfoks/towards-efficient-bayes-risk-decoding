{
 "cells": [
  {
   "cell_type": "code",
   "execution_count": 1,
   "id": "b7fd6ffc",
   "metadata": {},
   "outputs": [],
   "source": [
    "import pandas as pd\n",
    "import os\n",
    "import sys\n",
    "module_path = os.path.abspath(os.path.join('..'))\n",
    "if module_path not in sys.path:\n",
    "    sys.path.append(module_path)"
   ]
  },
  {
   "cell_type": "code",
   "execution_count": 11,
   "id": "0e001310",
   "metadata": {},
   "outputs": [],
   "source": [
    "import json\n",
    "utility = 'unigram-f1'\n",
    "\n",
    "models = [\n",
    "    'basic_model',\n",
    "    'last_hidden_state_model',\n",
    "    'token_statistics_model',\n",
    "    'full_dec_model',\n",
    "    'full_dec_no_stat_model',\n",
    "]\n",
    "base = '../results/{}/'.format(utility)\n",
    "\n",
    "\n",
    "\n",
    "def load_results_models(models, utility='unigram-f1'):\n",
    "    results = {}\n",
    "    for model in models:\n",
    "        summary_ref = base + model + '/summary.json'\n",
    "        with open(summary_ref, 'r') as f:\n",
    "            summary = json.load(f)\n",
    "\n",
    "            results[model] = summary\n",
    "    return results\n",
    "\n",
    "results_model = load_results_models(models, utility)\n",
    "\n"
   ]
  },
  {
   "cell_type": "code",
   "execution_count": 12,
   "id": "b1961bfe",
   "metadata": {},
   "outputs": [
    {
     "data": {
      "text/plain": [
       "{'basic_model': {'mean_kendall_taus': 0.3346319760615802,\n",
       "  'median_kendall_taus': 0.349527665317139,\n",
       "  'std_kendall_taus': 0.30743575709526283,\n",
       "  'MSE': 0.01272426905014398,\n",
       "  'top_10_unigram_f1_mean': 0.6625295188170335,\n",
       "  'top_10_unigram_f1_median': 0.6666666666666666,\n",
       "  'top_10_unigram_f1_std': 0.24415409756405002,\n",
       "  'best_unigram_f1_mean': 0.617902529446022,\n",
       "  'best_unigram_f1_median': 0.6666666666666665,\n",
       "  'best_unigram_f1_std': 0.2616256399355685},\n",
       " 'last_hidden_state_model': {'mean_kendall_taus': 0.48381087471669987,\n",
       "  'median_kendall_taus': 0.5118838254245093,\n",
       "  'std_kendall_taus': 0.2655627778674777,\n",
       "  'MSE': 0.006806340765763093,\n",
       "  'top_10_unigram_f1_mean': 0.6927654790767513,\n",
       "  'top_10_unigram_f1_median': 0.7272727272727272,\n",
       "  'top_10_unigram_f1_std': 0.2466511254850171,\n",
       "  'best_unigram_f1_mean': 0.6639421881689084,\n",
       "  'best_unigram_f1_median': 0.6666666666666666,\n",
       "  'best_unigram_f1_std': 0.25235086529506495},\n",
       " 'token_statistics_model': {'mean_kendall_taus': 0.6322660482967605,\n",
       "  'median_kendall_taus': 0.6300753625382225,\n",
       "  'std_kendall_taus': 0.17682753422664457,\n",
       "  'MSE': 0.003456007468436637,\n",
       "  'top_10_unigram_f1_mean': 0.7314954305694702,\n",
       "  'top_10_unigram_f1_median': 0.7692307692307692,\n",
       "  'top_10_unigram_f1_std': 0.2567306045339011,\n",
       "  'best_unigram_f1_mean': 0.7348661619961625,\n",
       "  'best_unigram_f1_median': 0.7777777777777778,\n",
       "  'best_unigram_f1_std': 0.2597222487462469},\n",
       " 'full_dec_model': {'mean_kendall_taus': 0.6986919772205107,\n",
       "  'median_kendall_taus': 0.7034455208492366,\n",
       "  'std_kendall_taus': 0.16443182784874363,\n",
       "  'MSE': 0.0024828000575120037,\n",
       "  'top_10_unigram_f1_mean': 0.7301108455567976,\n",
       "  'top_10_unigram_f1_median': 0.7692307692307692,\n",
       "  'top_10_unigram_f1_std': 0.2559432961299501,\n",
       "  'best_unigram_f1_mean': 0.7306249786577237,\n",
       "  'best_unigram_f1_median': 0.7692307692307692,\n",
       "  'best_unigram_f1_std': 0.2582256135963513},\n",
       " 'full_dec_no_stat_model': {'mean_kendall_taus': 0.5283397843151094,\n",
       "  'median_kendall_taus': 0.5555555555555556,\n",
       "  'std_kendall_taus': 0.24831942545087024,\n",
       "  'MSE': 0.005831162378532284,\n",
       "  'top_10_unigram_f1_mean': 0.7021148693664444,\n",
       "  'top_10_unigram_f1_median': 0.75,\n",
       "  'top_10_unigram_f1_std': 0.24802280904314525,\n",
       "  'best_unigram_f1_mean': 0.6781117196002089,\n",
       "  'best_unigram_f1_median': 0.7142857142857143,\n",
       "  'best_unigram_f1_std': 0.2541776339749769}}"
      ]
     },
     "execution_count": 12,
     "metadata": {},
     "output_type": "execute_result"
    }
   ],
   "source": [
    "m_mc_estimate = "
   ]
  },
  {
   "cell_type": "code",
   "execution_count": 13,
   "id": "1429f29b",
   "metadata": {},
   "outputs": [],
   "source": [
    "mse_models = [r[\"MSE\"] for _, r in results_model.items()]"
   ]
  },
  {
   "cell_type": "code",
   "execution_count": 17,
   "id": "6368fa4b",
   "metadata": {},
   "outputs": [
    {
     "data": {
      "image/png": "[encoded data removed]",
      "text/plain": [
       "<Figure size 432x288 with 1 Axes>"
      ]
     },
     "metadata": {
      "needs_background": "light"
     },
     "output_type": "display_data"
    }
   ],
   "source": [
    "from utilities.constants import PRETTY_NAMES\n",
    "\n",
    "import matplotlib.pyplot as plt\n",
    "names = [PRETTY_NAMES[name] for name in models]\n",
    "for mse in mse_models:\n",
    "    plt.plot([mse], '.')\n",
    "    "
   ]
  },
  {
   "cell_type": "code",
   "execution_count": null,
   "id": "71509ec1",
   "metadata": {},
   "outputs": [],
   "source": []
  }
 ],
 "metadata": {
  "kernelspec": {
   "display_name": "Python 3 (ipykernel)",
   "language": "python",
   "name": "python3"
  },
  "language_info": {
   "codemirror_mode": {
    "name": "ipython",
    "version": 3
   },
   "file_extension": ".py",
   "mimetype": "text/x-python",
   "name": "python",
   "nbconvert_exporter": "python",
   "pygments_lexer": "ipython3",
   "version": "3.7.13"
  }
 },
 "nbformat": 4,
 "nbformat_minor": 5
}
