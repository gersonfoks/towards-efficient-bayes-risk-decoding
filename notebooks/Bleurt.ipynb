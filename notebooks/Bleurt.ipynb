{
 "cells": [
  {
   "cell_type": "code",
   "execution_count": 1,
   "id": "5d34790b",
   "metadata": {},
   "outputs": [],
   "source": [
    "import pandas as pd\n",
    "import os\n",
    "import sys\n",
    "module_path = os.path.abspath(os.path.join('..'))\n",
    "if module_path not in sys.path:\n",
    "    sys.path.append(module_path)\n",
    "    \n",
    "    "
   ]
  },
  {
   "cell_type": "code",
   "execution_count": 11,
   "id": "69b0462c",
   "metadata": {},
   "outputs": [],
   "source": [
    "from evaluate import load\n",
    "bert_metric = load(\"bertscore\")\n"
   ]
  },
  {
   "cell_type": "code",
   "execution_count": 13,
   "id": "6b01fe7c",
   "metadata": {},
   "outputs": [
    {
     "name": "stdout",
     "output_type": "stream",
     "text": [
      "{'precision': [0.9440959692001343], 'recall': [0.9579665064811707], 'f1': [0.9509807229042053], 'hashcode': 'roberta-large_L17_no-idf_version=0.3.11(hug_trans=4.19.2)'}\n",
      "{'precision': [0.9440959692001343], 'recall': [0.9579665064811707], 'f1': [0.9509807229042053], 'hashcode': 'roberta-large_L17_no-idf_version=0.3.11(hug_trans=4.19.2)'}\n"
     ]
    }
   ],
   "source": [
    "candidate = 'this is an example sentence'\n",
    "ground1 = 'this is a example'\n",
    "bert_score = bert_metric.compute(predictions=[candidate], references=[ground1], lang='en')\n",
    "print(bert_score)\n",
    "# Normally, we use the f1-score attribute\n",
    "print(bert_score)"
   ]
  },
  {
   "cell_type": "code",
   "execution_count": 14,
   "id": "20eb20ef",
   "metadata": {},
   "outputs": [],
   "source": [
    "\n",
    "candidates = [\n",
    "    'this is an example sentence',\n",
    "    'another example',\n",
    "    'yes here is some text'\n",
    "]\n",
    "\n",
    "references = [\n",
    "    'this is an example sentence',\n",
    "    'another example',\n",
    "    'yes text!!!!'\n",
    "]"
   ]
  },
  {
   "cell_type": "code",
   "execution_count": 20,
   "id": "15d44c14",
   "metadata": {},
   "outputs": [
    {
     "name": "stdout",
     "output_type": "stream",
     "text": [
      "0.9566205739974976\n"
     ]
    }
   ],
   "source": [
    "import numpy as np\n",
    "bert_score = bert_metric.compute(predictions=candidates, references=references, lang='en')\n",
    "print(np.mean(bert_score['f1']))"
   ]
  },
  {
   "cell_type": "code",
   "execution_count": null,
   "id": "2e0bba9b",
   "metadata": {},
   "outputs": [],
   "source": []
  }
 ],
 "metadata": {
  "kernelspec": {
   "display_name": "Python 3 (ipykernel)",
   "language": "python",
   "name": "python3"
  },
  "language_info": {
   "codemirror_mode": {
    "name": "ipython",
    "version": 3
   },
   "file_extension": ".py",
   "mimetype": "text/x-python",
   "name": "python",
   "nbconvert_exporter": "python",
   "pygments_lexer": "ipython3",
   "version": "3.7.13"
  }
 },
 "nbformat": 4,
 "nbformat_minor": 5
}
