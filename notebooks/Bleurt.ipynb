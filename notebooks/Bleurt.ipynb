{
 "cells": [
  {
   "cell_type": "code",
   "execution_count": 1,
   "id": "5d34790b",
   "metadata": {},
   "outputs": [],
   "source": [
    "import pandas as pd\n",
    "import os\n",
    "import sys\n",
    "module_path = os.path.abspath(os.path.join('..'))\n",
    "if module_path not in sys.path:\n",
    "    sys.path.append(module_path)\n",
    "    \n",
    "    "
   ]
  },
  {
   "cell_type": "code",
   "execution_count": 2,
   "id": "69b0462c",
   "metadata": {},
   "outputs": [
    {
     "name": "stderr",
     "output_type": "stream",
     "text": [
      "C:\\Users\\gerso\\anaconda3\\envs\\thesis\\lib\\site-packages\\tqdm\\auto.py:22: TqdmWarning: IProgress not found. Please update jupyter and ipywidgets. See https://ipywidgets.readthedocs.io/en/stable/user_install.html\n",
      "  from .autonotebook import tqdm as notebook_tqdm\n"
     ]
    }
   ],
   "source": [
    "from evaluate import load\n",
    "bert_metric = load(\"bertscore\")\n"
   ]
  },
  {
   "cell_type": "code",
   "execution_count": 3,
   "id": "6b01fe7c",
   "metadata": {},
   "outputs": [
    {
     "name": "stdout",
     "output_type": "stream",
     "text": [
      "{'precision': [0.9441946744918823], 'recall': [0.958006739616394], 'f1': [0.9510505795478821], 'hashcode': 'roberta-large_L17_no-idf_version=0.3.11(hug_trans=4.20.0)'}\n",
      "{'precision': [0.9441946744918823], 'recall': [0.958006739616394], 'f1': [0.9510505795478821], 'hashcode': 'roberta-large_L17_no-idf_version=0.3.11(hug_trans=4.20.0)'}\n"
     ]
    }
   ],
   "source": [
    "candidate = 'this is an example sentence'\n",
    "ground1 = 'this is a example'\n",
    "bert_score = bert_metric.compute(predictions=[candidate], references=[ground1], lang='en')\n",
    "print(bert_score)\n",
    "# Normally, we use the f1-score attribute\n",
    "print(bert_score)"
   ]
  },
  {
   "cell_type": "code",
   "execution_count": 4,
   "id": "20eb20ef",
   "metadata": {},
   "outputs": [],
   "source": [
    "\n",
    "candidates = [\n",
    "    'this is an example sentence',\n",
    "    'another example',\n",
    "    'yes here is some text'\n",
    "]\n",
    "\n",
    "references = [\n",
    "    'this is an example sentence',\n",
    "    'another example',\n",
    "    'yes text!!!!'\n",
    "]"
   ]
  },
  {
   "cell_type": "code",
   "execution_count": 5,
   "id": "15d44c14",
   "metadata": {},
   "outputs": [
    {
     "name": "stdout",
     "output_type": "stream",
     "text": [
      "0.9566126068433126\n"
     ]
    }
   ],
   "source": [
    "import numpy as np\n",
    "bert_score = bert_metric.compute(predictions=candidates, references=references, lang='en')\n",
    "print(np.mean(bert_score['f1']))"
   ]
  },
  {
   "cell_type": "code",
   "execution_count": 10,
   "id": "2e0bba9b",
   "metadata": {},
   "outputs": [
    {
     "name": "stdout",
     "output_type": "stream",
     "text": [
      "tensor([1.0329, 0.2045, 1.1996], device='cuda:0')\n"
     ]
    }
   ],
   "source": [
    "from transformers import AutoModelForSequenceClassification, AutoTokenizer\n",
    "import torch\n",
    "\n",
    "tokenizer = AutoTokenizer.from_pretrained(\"Elron/bleurt-base-512\")\n",
    "model = AutoModelForSequenceClassification.from_pretrained(\"Elron/bleurt-base-512\")\n",
    "model.eval()\n",
    "\n",
    "references = [\"hello world\", \"hello world\", \"hello world\"]\n",
    "candidates = [\"hi universe\", \"bye world\", \"hello world\"]\n",
    "\n",
    "model = model.to('cuda')\n",
    "with torch.no_grad():\n",
    "    scores = model(**tokenizer(candidates, references, return_tensors='pt').to('cuda'))[0].squeeze()\n",
    "\n",
    "print(scores)"
   ]
  },
  {
   "cell_type": "code",
   "execution_count": null,
   "id": "e30bfa49",
   "metadata": {},
   "outputs": [],
   "source": []
  }
 ],
 "metadata": {
  "kernelspec": {
   "display_name": "Python 3 (ipykernel)",
   "language": "python",
   "name": "python3"
  },
  "language_info": {
   "codemirror_mode": {
    "name": "ipython",
    "version": 3
   },
   "file_extension": ".py",
   "mimetype": "text/x-python",
   "name": "python",
   "nbconvert_exporter": "python",
   "pygments_lexer": "ipython3",
   "version": "3.9.15"
  }
 },
 "nbformat": 4,
 "nbformat_minor": 5
}
