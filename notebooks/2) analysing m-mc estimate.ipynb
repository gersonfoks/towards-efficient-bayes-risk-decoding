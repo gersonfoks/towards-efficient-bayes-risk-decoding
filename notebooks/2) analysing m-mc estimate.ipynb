{
 "cells": [
  {
   "cell_type": "code",
   "execution_count": 1,
   "id": "f4a5a7a3",
   "metadata": {},
   "outputs": [],
   "source": [
    "import pandas as pd\n",
    "import os\n",
    "import sys\n",
    "module_path = os.path.abspath(os.path.join('..'))\n",
    "if module_path not in sys.path:\n",
    "    sys.path.append(module_path)\n"
   ]
  },
  {
   "cell_type": "code",
   "execution_count": 2,
   "id": "151a1b30",
   "metadata": {},
   "outputs": [],
   "source": [
    "# Load the 5 mc estimate\n",
    "\n",
    "mc_5_df = pd.read_parquet('../data/comet/ancestral_100_10_validation_predictive_1.parquet')\n",
    "mc_1000_df = pd.read_parquet('../data/comet/ancestral_100_1000_validation_predictive_0.parquet')"
   ]
  },
  {
   "cell_type": "code",
   "execution_count": 3,
   "id": "203404c2",
   "metadata": {},
   "outputs": [],
   "source": [
    "# Calculate the mean\n"
   ]
  },
  {
   "cell_type": "code",
   "execution_count": 4,
   "id": "5d313f5e",
   "metadata": {},
   "outputs": [
    {
     "data": {
      "text/html": [
       "<div>\n",
       "<style scoped>\n",
       "    .dataframe tbody tr th:only-of-type {\n",
       "        vertical-align: middle;\n",
       "    }\n",
       "\n",
       "    .dataframe tbody tr th {\n",
       "        vertical-align: top;\n",
       "    }\n",
       "\n",
       "    .dataframe thead th {\n",
       "        text-align: right;\n",
       "    }\n",
       "</style>\n",
       "<table border=\"1\" class=\"dataframe\">\n",
       "  <thead>\n",
       "    <tr style=\"text-align: right;\">\n",
       "      <th></th>\n",
       "      <th>source</th>\n",
       "      <th>target</th>\n",
       "      <th>hypotheses</th>\n",
       "      <th>references_count</th>\n",
       "      <th>utilities</th>\n",
       "    </tr>\n",
       "  </thead>\n",
       "  <tbody>\n",
       "    <tr>\n",
       "      <th>0</th>\n",
       "      <td>Ich denke, Tom mag Maria.</td>\n",
       "      <td>I think that Tom likes Mary.</td>\n",
       "      <td>[I think Tom likes Mary., I think that Tom lik...</td>\n",
       "      <td>[979, 20, 1]</td>\n",
       "      <td>[[1.2426704, 1.1319672, 1.0443121], [1.1185635...</td>\n",
       "    </tr>\n",
       "    <tr>\n",
       "      <th>1</th>\n",
       "      <td>Wir leben alle auf dem Planeten Erde.</td>\n",
       "      <td>We all live on planet Earth.</td>\n",
       "      <td>[We all live on the planet earth., We all live...</td>\n",
       "      <td>[408, 302, 62, 66, 28, 11, 1, 1, 1, 2, 1, 3, 6...</td>\n",
       "      <td>[[1.1946174, 1.0890923, 1.1190448, 1.2563909, ...</td>\n",
       "    </tr>\n",
       "    <tr>\n",
       "      <th>2</th>\n",
       "      <td>Hast du daran gedacht, warme Socken anzuziehen?</td>\n",
       "      <td>Did you remember to wear warm socks?</td>\n",
       "      <td>[Did you remember to wear hot socks?, Did you ...</td>\n",
       "      <td>[543, 1, 1, 1, 1, 5, 9, 16, 2, 9, 1, 6, 37, 1,...</td>\n",
       "      <td>[[1.0091288, 0.64454204, -0.27938378, 0.397212...</td>\n",
       "    </tr>\n",
       "    <tr>\n",
       "      <th>3</th>\n",
       "      <td>Meine Mama hat zwei Flaschen Apfelsaft gekauft.</td>\n",
       "      <td>My mum bought two bottles of apple juice.</td>\n",
       "      <td>[My mom bought two bottles of apple juice., My...</td>\n",
       "      <td>[884, 70, 1, 1, 1, 1, 6, 1, 1, 1, 1, 1, 2, 1, ...</td>\n",
       "      <td>[[1.2582612, 1.1912981, 0.90627, 0.22061357, 1...</td>\n",
       "    </tr>\n",
       "    <tr>\n",
       "      <th>4</th>\n",
       "      <td>Holen Sie sie jetzt gleich herein!</td>\n",
       "      <td>Have them come in right now.</td>\n",
       "      <td>[Get her in here right now., Get it in here ri...</td>\n",
       "      <td>[1, 48, 6, 1, 1, 15, 3, 1, 1, 1, 21, 4, 48, 1,...</td>\n",
       "      <td>[[-0.16692466, 0.26618397, 0.29686052, -0.1486...</td>\n",
       "    </tr>\n",
       "    <tr>\n",
       "      <th>...</th>\n",
       "      <td>...</td>\n",
       "      <td>...</td>\n",
       "      <td>...</td>\n",
       "      <td>...</td>\n",
       "      <td>...</td>\n",
       "    </tr>\n",
       "    <tr>\n",
       "      <th>2495</th>\n",
       "      <td>Wie war euer Wochenende bis jetzt?</td>\n",
       "      <td>How has your weekend been so far?</td>\n",
       "      <td>[How was your weekend?\", How was your weekend?...</td>\n",
       "      <td>[748, 10, 12, 1, 15, 1, 22, 1, 1, 1, 1, 1, 1, ...</td>\n",
       "      <td>[[1.0100796, 0.7771119, 0.89239156, 0.77869445...</td>\n",
       "    </tr>\n",
       "    <tr>\n",
       "      <th>2496</th>\n",
       "      <td>Tom ging in dieselbe Schule wie Maria.</td>\n",
       "      <td>Tom went to the same school as Mary did.</td>\n",
       "      <td>[Tom went to the same school as Mary., Tom wen...</td>\n",
       "      <td>[529, 351, 1, 5, 12, 3, 15, 1, 1, 20, 1, 4, 1,...</td>\n",
       "      <td>[[1.1805013, 0.99536794, 0.83011305, 0.997268,...</td>\n",
       "    </tr>\n",
       "    <tr>\n",
       "      <th>2497</th>\n",
       "      <td>Ich kann nicht weniger nehmen.</td>\n",
       "      <td>I cannot take less.</td>\n",
       "      <td>[I can't take any more., I can't take more., I...</td>\n",
       "      <td>[328, 1, 241, 70, 70, 6, 3, 1, 8, 13, 4, 11, 1...</td>\n",
       "      <td>[[0.41811326, -0.2648098, 0.107799955, 1.14995...</td>\n",
       "    </tr>\n",
       "    <tr>\n",
       "      <th>2498</th>\n",
       "      <td>Wir sind zu Hause geblieben.</td>\n",
       "      <td>We stayed in our houses.</td>\n",
       "      <td>[We stayed at home., We stayed home.]</td>\n",
       "      <td>[807, 188, 1, 1, 1, 1, 1]</td>\n",
       "      <td>[[1.1327305, 0.9725194, 0.57990247, 0.9006014,...</td>\n",
       "    </tr>\n",
       "    <tr>\n",
       "      <th>2499</th>\n",
       "      <td>Maria trägt heute ein neues Kleid.</td>\n",
       "      <td>Mary is wearing a new dress today.</td>\n",
       "      <td>[Mary is wearing a new dress today., Mary is h...</td>\n",
       "      <td>[926, 1, 6, 10, 9, 3, 2, 1, 4, 1, 1, 1, 1, 1, ...</td>\n",
       "      <td>[[1.1003994, 0.94166046, 0.9586309, 0.96392286...</td>\n",
       "    </tr>\n",
       "  </tbody>\n",
       "</table>\n",
       "<p>2500 rows × 5 columns</p>\n",
       "</div>"
      ],
      "text/plain": [
       "                                               source  \\\n",
       "0                           Ich denke, Tom mag Maria.   \n",
       "1               Wir leben alle auf dem Planeten Erde.   \n",
       "2     Hast du daran gedacht, warme Socken anzuziehen?   \n",
       "3     Meine Mama hat zwei Flaschen Apfelsaft gekauft.   \n",
       "4                  Holen Sie sie jetzt gleich herein!   \n",
       "...                                               ...   \n",
       "2495               Wie war euer Wochenende bis jetzt?   \n",
       "2496           Tom ging in dieselbe Schule wie Maria.   \n",
       "2497                   Ich kann nicht weniger nehmen.   \n",
       "2498                     Wir sind zu Hause geblieben.   \n",
       "2499               Maria trägt heute ein neues Kleid.   \n",
       "\n",
       "                                         target  \\\n",
       "0                  I think that Tom likes Mary.   \n",
       "1                  We all live on planet Earth.   \n",
       "2          Did you remember to wear warm socks?   \n",
       "3     My mum bought two bottles of apple juice.   \n",
       "4                  Have them come in right now.   \n",
       "...                                         ...   \n",
       "2495          How has your weekend been so far?   \n",
       "2496   Tom went to the same school as Mary did.   \n",
       "2497                        I cannot take less.   \n",
       "2498                   We stayed in our houses.   \n",
       "2499         Mary is wearing a new dress today.   \n",
       "\n",
       "                                             hypotheses  \\\n",
       "0     [I think Tom likes Mary., I think that Tom lik...   \n",
       "1     [We all live on the planet earth., We all live...   \n",
       "2     [Did you remember to wear hot socks?, Did you ...   \n",
       "3     [My mom bought two bottles of apple juice., My...   \n",
       "4     [Get her in here right now., Get it in here ri...   \n",
       "...                                                 ...   \n",
       "2495  [How was your weekend?\", How was your weekend?...   \n",
       "2496  [Tom went to the same school as Mary., Tom wen...   \n",
       "2497  [I can't take any more., I can't take more., I...   \n",
       "2498              [We stayed at home., We stayed home.]   \n",
       "2499  [Mary is wearing a new dress today., Mary is h...   \n",
       "\n",
       "                                       references_count  \\\n",
       "0                                          [979, 20, 1]   \n",
       "1     [408, 302, 62, 66, 28, 11, 1, 1, 1, 2, 1, 3, 6...   \n",
       "2     [543, 1, 1, 1, 1, 5, 9, 16, 2, 9, 1, 6, 37, 1,...   \n",
       "3     [884, 70, 1, 1, 1, 1, 6, 1, 1, 1, 1, 1, 2, 1, ...   \n",
       "4     [1, 48, 6, 1, 1, 15, 3, 1, 1, 1, 21, 4, 48, 1,...   \n",
       "...                                                 ...   \n",
       "2495  [748, 10, 12, 1, 15, 1, 22, 1, 1, 1, 1, 1, 1, ...   \n",
       "2496  [529, 351, 1, 5, 12, 3, 15, 1, 1, 20, 1, 4, 1,...   \n",
       "2497  [328, 1, 241, 70, 70, 6, 3, 1, 8, 13, 4, 11, 1...   \n",
       "2498                          [807, 188, 1, 1, 1, 1, 1]   \n",
       "2499  [926, 1, 6, 10, 9, 3, 2, 1, 4, 1, 1, 1, 1, 1, ...   \n",
       "\n",
       "                                              utilities  \n",
       "0     [[1.2426704, 1.1319672, 1.0443121], [1.1185635...  \n",
       "1     [[1.1946174, 1.0890923, 1.1190448, 1.2563909, ...  \n",
       "2     [[1.0091288, 0.64454204, -0.27938378, 0.397212...  \n",
       "3     [[1.2582612, 1.1912981, 0.90627, 0.22061357, 1...  \n",
       "4     [[-0.16692466, 0.26618397, 0.29686052, -0.1486...  \n",
       "...                                                 ...  \n",
       "2495  [[1.0100796, 0.7771119, 0.89239156, 0.77869445...  \n",
       "2496  [[1.1805013, 0.99536794, 0.83011305, 0.997268,...  \n",
       "2497  [[0.41811326, -0.2648098, 0.107799955, 1.14995...  \n",
       "2498  [[1.1327305, 0.9725194, 0.57990247, 0.9006014,...  \n",
       "2499  [[1.1003994, 0.94166046, 0.9586309, 0.96392286...  \n",
       "\n",
       "[2500 rows x 5 columns]"
      ]
     },
     "execution_count": 4,
     "metadata": {},
     "output_type": "execute_result"
    }
   ],
   "source": [
    "mc_1000_df"
   ]
  },
  {
   "cell_type": "code",
   "execution_count": 5,
   "id": "bc256892",
   "metadata": {},
   "outputs": [],
   "source": [
    "import numpy as np\n",
    "\n",
    "mc_1000_df = mc_1000_df.explode(column=['hypotheses', 'utilities'])\n",
    "mc_1000_df.reset_index(drop=True, inplace=True)\n",
    "mc_1000_df.rename({\"hypotheses\": \"hypothesis\"}, inplace=True, axis=1)\n",
    "\n",
    "\n",
    "mc_1000_df[\"utility\"] = mc_1000_df[[\"utilities\", 'references_count']].apply(lambda x: np.sum(\n",
    "        np.array(x[\"utilities\"]) * np.array(x[\"references_count\"]) / np.sum(np.array(x[\"references_count\"]))), axis=1)\n"
   ]
  },
  {
   "cell_type": "code",
   "execution_count": 6,
   "id": "ff7e526b",
   "metadata": {},
   "outputs": [],
   "source": [
    "mc_5_df = mc_5_df.explode(column=['hypotheses', 'utilities'])\n",
    "mc_5_df.reset_index(drop=True, inplace=True)\n",
    "mc_5_df.rename({\"hypotheses\": \"hypothesis\"}, inplace=True, axis=1)\n",
    "\n",
    "\n",
    "mc_5_df[\"utility\"] = mc_5_df[[\"utilities\", 'references_count']].apply(lambda x: np.sum(\n",
    "        np.array(x[\"utilities\"]) * np.array(x[\"references_count\"]) / np.sum(np.array(x[\"references_count\"]))), axis=1)"
   ]
  },
  {
   "cell_type": "code",
   "execution_count": 7,
   "id": "396c6867",
   "metadata": {},
   "outputs": [],
   "source": [
    "difference = (mc_5_df[\"utility\"] - mc_1000_df[\"utility\"])**2"
   ]
  },
  {
   "cell_type": "code",
   "execution_count": 8,
   "id": "d098eefb",
   "metadata": {},
   "outputs": [
    {
     "name": "stdout",
     "output_type": "stream",
     "text": [
      "0        0.000005\n",
      "1        0.000004\n",
      "2        0.001925\n",
      "3        0.001417\n",
      "4        0.000514\n",
      "           ...   \n",
      "97152    0.000023\n",
      "97153    0.000002\n",
      "97154    0.000086\n",
      "97155    0.000003\n",
      "97156    0.000076\n",
      "Name: utility, Length: 97157, dtype: float64\n"
     ]
    }
   ],
   "source": [
    "print(difference)"
   ]
  },
  {
   "cell_type": "code",
   "execution_count": 9,
   "id": "6fc78c42",
   "metadata": {},
   "outputs": [
    {
     "name": "stdout",
     "output_type": "stream",
     "text": [
      "0.008579217501844705\n"
     ]
    }
   ],
   "source": [
    "print(difference.mean())"
   ]
  },
  {
   "cell_type": "code",
   "execution_count": null,
   "id": "c5180f08",
   "metadata": {},
   "outputs": [],
   "source": []
  }
 ],
 "metadata": {
  "kernelspec": {
   "display_name": "Python 3 (ipykernel)",
   "language": "python",
   "name": "python3"
  },
  "language_info": {
   "codemirror_mode": {
    "name": "ipython",
    "version": 3
   },
   "file_extension": ".py",
   "mimetype": "text/x-python",
   "name": "python",
   "nbconvert_exporter": "python",
   "pygments_lexer": "ipython3",
   "version": "3.8.13"
  }
 },
 "nbformat": 4,
 "nbformat_minor": 5
}
