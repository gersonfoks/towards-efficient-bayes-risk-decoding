{
 "cells": [
  {
   "cell_type": "code",
   "execution_count": 1,
   "id": "95416969",
   "metadata": {},
   "outputs": [],
   "source": [
    "import numpy as np"
   ]
  },
  {
   "cell_type": "code",
   "execution_count": 2,
   "id": "22398ca9",
   "metadata": {},
   "outputs": [
    {
     "name": "stderr",
     "output_type": "stream",
     "text": [
      "C:\\Users\\gerso\\anaconda3\\envs\\thesis\\lib\\site-packages\\tqdm\\auto.py:22: TqdmWarning: IProgress not found. Please update jupyter and ipywidgets. See https://ipywidgets.readthedocs.io/en/stable/user_install.html\n",
      "  from .autonotebook import tqdm as notebook_tqdm\n"
     ]
    }
   ],
   "source": [
    "from datasets import load_dataset\n"
   ]
  },
  {
   "cell_type": "code",
   "execution_count": 9,
   "id": "9ba41420",
   "metadata": {},
   "outputs": [
    {
     "name": "stderr",
     "output_type": "stream",
     "text": [
      "Using custom data configuration de-en-lang1=de,lang2=en\n",
      "Reusing dataset tatoeba (C:\\Users\\gerso\\.cache\\huggingface\\datasets\\tatoeba\\de-en-lang1=de,lang2=en\\0.0.0\\b3ea9c6bb2af47699c5fc0a155643f5a0da287c7095ea14824ee0a8afd74daf6)\n",
      "100%|███████████████████████████████████████████████████████████████████████████████████| 1/1 [00:00<00:00, 200.57it/s]\n"
     ]
    }
   ],
   "source": [
    "dataset = load_dataset(\"tatoeba\", lang1=\"de\", lang2=\"en\", )[\"train\"]\n",
    "df = dataset.to_pandas()\n",
    "n_samples = len(dataset)"
   ]
  },
  {
   "cell_type": "code",
   "execution_count": 10,
   "id": "b1e7e162",
   "metadata": {},
   "outputs": [
    {
     "name": "stdout",
     "output_type": "stream",
     "text": [
      "307372\n"
     ]
    }
   ],
   "source": [
    "print(n_samples)"
   ]
  },
  {
   "cell_type": "code",
   "execution_count": 12,
   "id": "a660de6c",
   "metadata": {},
   "outputs": [],
   "source": [
    "df[\"source\"] = df.apply(lambda x: x[\"translation\"][\"de\"], axis=1)\n",
    "df[\"target\"] = df.apply(lambda x: x[\"translation\"][\"en\"], axis=1)"
   ]
  },
  {
   "cell_type": "code",
   "execution_count": 19,
   "id": "8ce96543",
   "metadata": {},
   "outputs": [
    {
     "data": {
      "text/html": [
       "<div>\n",
       "<style scoped>\n",
       "    .dataframe tbody tr th:only-of-type {\n",
       "        vertical-align: middle;\n",
       "    }\n",
       "\n",
       "    .dataframe tbody tr th {\n",
       "        vertical-align: top;\n",
       "    }\n",
       "\n",
       "    .dataframe thead th {\n",
       "        text-align: right;\n",
       "    }\n",
       "</style>\n",
       "<table border=\"1\" class=\"dataframe\">\n",
       "  <thead>\n",
       "    <tr style=\"text-align: right;\">\n",
       "      <th></th>\n",
       "      <th>id</th>\n",
       "      <th>translation</th>\n",
       "      <th>source</th>\n",
       "      <th>target</th>\n",
       "      <th>source_len</th>\n",
       "      <th>target_len</th>\n",
       "    </tr>\n",
       "  </thead>\n",
       "  <tbody>\n",
       "    <tr>\n",
       "      <th>0</th>\n",
       "      <td>0</td>\n",
       "      <td>{'de': 'Lass uns etwas versuchen!', 'en': 'Let...</td>\n",
       "      <td>Lass uns etwas versuchen!</td>\n",
       "      <td>Let's try something.</td>\n",
       "      <td>25</td>\n",
       "      <td>20</td>\n",
       "    </tr>\n",
       "    <tr>\n",
       "      <th>1</th>\n",
       "      <td>1</td>\n",
       "      <td>{'de': 'Ich muss schlafen gehen.', 'en': 'I ha...</td>\n",
       "      <td>Ich muss schlafen gehen.</td>\n",
       "      <td>I have to go to sleep.</td>\n",
       "      <td>24</td>\n",
       "      <td>22</td>\n",
       "    </tr>\n",
       "    <tr>\n",
       "      <th>2</th>\n",
       "      <td>2</td>\n",
       "      <td>{'de': 'Was ist das?', 'en': 'What is it?'}</td>\n",
       "      <td>Was ist das?</td>\n",
       "      <td>What is it?</td>\n",
       "      <td>12</td>\n",
       "      <td>11</td>\n",
       "    </tr>\n",
       "    <tr>\n",
       "      <th>3</th>\n",
       "      <td>3</td>\n",
       "      <td>{'de': 'Was ist das?', 'en': 'What's that?'}</td>\n",
       "      <td>Was ist das?</td>\n",
       "      <td>What's that?</td>\n",
       "      <td>12</td>\n",
       "      <td>12</td>\n",
       "    </tr>\n",
       "    <tr>\n",
       "      <th>4</th>\n",
       "      <td>4</td>\n",
       "      <td>{'de': 'Was ist das?', 'en': 'What is this?'}</td>\n",
       "      <td>Was ist das?</td>\n",
       "      <td>What is this?</td>\n",
       "      <td>12</td>\n",
       "      <td>13</td>\n",
       "    </tr>\n",
       "    <tr>\n",
       "      <th>...</th>\n",
       "      <td>...</td>\n",
       "      <td>...</td>\n",
       "      <td>...</td>\n",
       "      <td>...</td>\n",
       "      <td>...</td>\n",
       "      <td>...</td>\n",
       "    </tr>\n",
       "    <tr>\n",
       "      <th>307367</th>\n",
       "      <td>307367</td>\n",
       "      <td>{'de': 'Ich hatte ja gehofft, wir müssten das ...</td>\n",
       "      <td>Ich hatte ja gehofft, wir müssten das nicht.</td>\n",
       "      <td>I was kind of hoping we wouldn't have to do this.</td>\n",
       "      <td>44</td>\n",
       "      <td>49</td>\n",
       "    </tr>\n",
       "    <tr>\n",
       "      <th>307368</th>\n",
       "      <td>307368</td>\n",
       "      <td>{'de': 'Tom flog auf dem Rücken eines Einhorns...</td>\n",
       "      <td>Tom flog auf dem Rücken eines Einhorns nach At...</td>\n",
       "      <td>Tom flew to Atlantis on the back of a unicorn.</td>\n",
       "      <td>53</td>\n",
       "      <td>46</td>\n",
       "    </tr>\n",
       "    <tr>\n",
       "      <th>307369</th>\n",
       "      <td>307369</td>\n",
       "      <td>{'de': 'Er hatte gestern nichts zu tun.', 'en'...</td>\n",
       "      <td>Er hatte gestern nichts zu tun.</td>\n",
       "      <td>He had nothing to do yesterday.</td>\n",
       "      <td>31</td>\n",
       "      <td>31</td>\n",
       "    </tr>\n",
       "    <tr>\n",
       "      <th>307370</th>\n",
       "      <td>307370</td>\n",
       "      <td>{'de': 'Tom wollte nicht in den Zoo.', 'en': '...</td>\n",
       "      <td>Tom wollte nicht in den Zoo.</td>\n",
       "      <td>Tom didn't want to go to the zoo.</td>\n",
       "      <td>28</td>\n",
       "      <td>33</td>\n",
       "    </tr>\n",
       "    <tr>\n",
       "      <th>307371</th>\n",
       "      <td>307371</td>\n",
       "      <td>{'de': '', 'en': ''}</td>\n",
       "      <td></td>\n",
       "      <td></td>\n",
       "      <td>0</td>\n",
       "      <td>0</td>\n",
       "    </tr>\n",
       "  </tbody>\n",
       "</table>\n",
       "<p>307372 rows × 6 columns</p>\n",
       "</div>"
      ],
      "text/plain": [
       "            id                                        translation  \\\n",
       "0            0  {'de': 'Lass uns etwas versuchen!', 'en': 'Let...   \n",
       "1            1  {'de': 'Ich muss schlafen gehen.', 'en': 'I ha...   \n",
       "2            2        {'de': 'Was ist das?', 'en': 'What is it?'}   \n",
       "3            3       {'de': 'Was ist das?', 'en': 'What's that?'}   \n",
       "4            4      {'de': 'Was ist das?', 'en': 'What is this?'}   \n",
       "...        ...                                                ...   \n",
       "307367  307367  {'de': 'Ich hatte ja gehofft, wir müssten das ...   \n",
       "307368  307368  {'de': 'Tom flog auf dem Rücken eines Einhorns...   \n",
       "307369  307369  {'de': 'Er hatte gestern nichts zu tun.', 'en'...   \n",
       "307370  307370  {'de': 'Tom wollte nicht in den Zoo.', 'en': '...   \n",
       "307371  307371                               {'de': '', 'en': ''}   \n",
       "\n",
       "                                                   source  \\\n",
       "0                               Lass uns etwas versuchen!   \n",
       "1                                Ich muss schlafen gehen.   \n",
       "2                                            Was ist das?   \n",
       "3                                            Was ist das?   \n",
       "4                                            Was ist das?   \n",
       "...                                                   ...   \n",
       "307367       Ich hatte ja gehofft, wir müssten das nicht.   \n",
       "307368  Tom flog auf dem Rücken eines Einhorns nach At...   \n",
       "307369                    Er hatte gestern nichts zu tun.   \n",
       "307370                       Tom wollte nicht in den Zoo.   \n",
       "307371                                                      \n",
       "\n",
       "                                                   target  source_len  \\\n",
       "0                                    Let's try something.          25   \n",
       "1                                  I have to go to sleep.          24   \n",
       "2                                             What is it?          12   \n",
       "3                                            What's that?          12   \n",
       "4                                           What is this?          12   \n",
       "...                                                   ...         ...   \n",
       "307367  I was kind of hoping we wouldn't have to do this.          44   \n",
       "307368     Tom flew to Atlantis on the back of a unicorn.          53   \n",
       "307369                    He had nothing to do yesterday.          31   \n",
       "307370                  Tom didn't want to go to the zoo.          28   \n",
       "307371                                                              0   \n",
       "\n",
       "        target_len  \n",
       "0               20  \n",
       "1               22  \n",
       "2               11  \n",
       "3               12  \n",
       "4               13  \n",
       "...            ...  \n",
       "307367          49  \n",
       "307368          46  \n",
       "307369          31  \n",
       "307370          33  \n",
       "307371           0  \n",
       "\n",
       "[307372 rows x 6 columns]"
      ]
     },
     "execution_count": 19,
     "metadata": {},
     "output_type": "execute_result"
    }
   ],
   "source": [
    "df"
   ]
  },
  {
   "cell_type": "code",
   "execution_count": 25,
   "id": "cd209a8f",
   "metadata": {},
   "outputs": [
    {
     "name": "stdout",
     "output_type": "stream",
     "text": [
      "Tom hat fein säuberlich gekämmtes Haar. & Tom's hair is neatly combed.\n",
      "Ich verstehe nicht, was du sagst. & I don't understand what you're saying.\n",
      "Der Astronaut ist im Weltraum über der Erde. & The astronaut is in orbit around the Earth.\n",
      "Der Baum dort ist nicht so hoch wie dieser hier. & That tree is not so tall as this.\n",
      "Ich weiß, warum Tom in Schwierigkeiten steckt. & I know why Tom is in trouble.\n"
     ]
    }
   ],
   "source": [
    "df[\"source\"][-5:]\n",
    "for i in range(5):\n",
    "    idx = np.random.choice(len(df.index))\n",
    "    x = df.iloc[idx]\n",
    "    print(\"{} & {}\".format(x[\"source\"], x[\"target\"]))"
   ]
  },
  {
   "cell_type": "code",
   "execution_count": 15,
   "id": "b7e84e7d",
   "metadata": {},
   "outputs": [],
   "source": [
    "df[\"source_len\"]  = df.apply(lambda x: len(x[\"source\"]), axis=1)\n",
    "df[\"target_len\"]  = df.apply(lambda x: len(x[\"target\"]), axis=1)"
   ]
  },
  {
   "cell_type": "code",
   "execution_count": 16,
   "id": "740e53d2",
   "metadata": {},
   "outputs": [
    {
     "data": {
      "text/plain": [
       "count    307372.000000\n",
       "mean         40.992602\n",
       "std          23.521684\n",
       "min           0.000000\n",
       "25%          27.000000\n",
       "50%          36.000000\n",
       "75%          48.000000\n",
       "max        1427.000000\n",
       "Name: source_len, dtype: float64"
      ]
     },
     "execution_count": 16,
     "metadata": {},
     "output_type": "execute_result"
    }
   ],
   "source": [
    "df[\"source_len\"].describe()\n"
   ]
  },
  {
   "cell_type": "code",
   "execution_count": 18,
   "id": "f6c914c2",
   "metadata": {},
   "outputs": [
    {
     "data": {
      "text/plain": [
       "count    307372.000000\n",
       "mean         35.365033\n",
       "std          20.207826\n",
       "min           0.000000\n",
       "25%          24.000000\n",
       "50%          31.000000\n",
       "75%          41.000000\n",
       "max        1085.000000\n",
       "Name: target_len, dtype: float64"
      ]
     },
     "execution_count": 18,
     "metadata": {},
     "output_type": "execute_result"
    }
   ],
   "source": [
    "df[\"target_len\"].describe()"
   ]
  },
  {
   "cell_type": "code",
   "execution_count": null,
   "id": "4bbebb30",
   "metadata": {},
   "outputs": [],
   "source": [
    "# Next check what happens "
   ]
  }
 ],
 "metadata": {
  "kernelspec": {
   "display_name": "Python 3 (ipykernel)",
   "language": "python",
   "name": "python3"
  },
  "language_info": {
   "codemirror_mode": {
    "name": "ipython",
    "version": 3
   },
   "file_extension": ".py",
   "mimetype": "text/x-python",
   "name": "python",
   "nbconvert_exporter": "python",
   "pygments_lexer": "ipython3",
   "version": "3.7.13"
  }
 },
 "nbformat": 4,
 "nbformat_minor": 5
}
